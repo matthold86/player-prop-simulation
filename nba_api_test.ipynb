{
 "cells": [
  {
   "cell_type": "code",
   "execution_count": null,
   "metadata": {},
   "outputs": [],
   "source": [
    "from nba_api.stats.endpoints import playercareerstats\n",
    "\n",
    "# Nikola Jokić\n",
    "career = playercareerstats.PlayerCareerStats(player_id='203999') \n",
    "\n",
    "# pandas data frames (optional: pip install pandas)\n",
    "career.get_data_frames()[0]\n",
    "\n",
    "# json\n",
    "career.get_json()\n",
    "\n",
    "# dictionary\n",
    "career.get_dict()"
   ]
  }
 ],
 "metadata": {
  "kernelspec": {
   "display_name": "player_prop",
   "language": "python",
   "name": "python3"
  },
  "language_info": {
   "codemirror_mode": {
    "name": "ipython",
    "version": 3
   },
   "file_extension": ".py",
   "mimetype": "text/x-python",
   "name": "python",
   "nbconvert_exporter": "python",
   "pygments_lexer": "ipython3",
   "version": "3.11.10"
  }
 },
 "nbformat": 4,
 "nbformat_minor": 2
}
