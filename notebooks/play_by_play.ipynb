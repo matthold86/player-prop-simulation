{
 "cells": [
  {
   "cell_type": "code",
   "execution_count": 62,
   "metadata": {},
   "outputs": [],
   "source": [
    "from nba_api.stats.endpoints import playbyplayv3, leaguegamefinder\n",
    "import pandas as pd\n",
    "import pyarrow\n",
    "import os\n",
    "pd.set_option('display.max_columns', 100)\n",
    "pd.set_option('display.max_rows', None)"
   ]
  },
  {
   "cell_type": "code",
   "execution_count": 63,
   "metadata": {},
   "outputs": [],
   "source": [
    "# Retrieve all games from 2023-24 season\n",
    "season = \"2023-24\"  # Modify this as needed\n",
    "gamefinder = leaguegamefinder.LeagueGameFinder(season_nullable=season)\n",
    "games_df = gamefinder.get_data_frames()[0]\n",
    "team_games = games_df[games_df['TEAM_ABBREVIATION'] == 'BOS']"
   ]
  },
  {
   "cell_type": "code",
   "execution_count": 64,
   "metadata": {},
   "outputs": [],
   "source": [
    "# Filter for specific team - list of games\n",
    "team = \"BOS\"\n",
    "team_games = games_df[games_df['TEAM_ABBREVIATION'] == f\"{team}\"]\n",
    "game_ids = team_games['GAME_ID'].to_list()"
   ]
  },
  {
   "cell_type": "code",
   "execution_count": 65,
   "metadata": {},
   "outputs": [
    {
     "name": "stdout",
     "output_type": "stream",
     "text": [
      "Directory exists: ../data/raw/BOS\n"
     ]
    }
   ],
   "source": [
    "directory = f'../data/raw/{team}'\n",
    "if not os.path.exists(directory):\n",
    "    os.makedirs(directory)\n",
    "    print(f\"new directory made: {directory}\")\n",
    "else:\n",
    "    print(f\"Directory exists: {directory}\")"
   ]
  },
  {
   "cell_type": "code",
   "execution_count": 66,
   "metadata": {},
   "outputs": [
    {
     "name": "stdout",
     "output_type": "stream",
     "text": [
      "Path already found: ../data/raw/BOS/BOS_0042300405.parquet\n",
      "Path already found: ../data/raw/BOS/BOS_0042300404.parquet\n",
      "Path already found: ../data/raw/BOS/BOS_0042300403.parquet\n",
      "Path already found: ../data/raw/BOS/BOS_0042300402.parquet\n",
      "Path already found: ../data/raw/BOS/BOS_0042300401.parquet\n",
      "Path already found: ../data/raw/BOS/BOS_0042300304.parquet\n",
      "Path already found: ../data/raw/BOS/BOS_0042300303.parquet\n",
      "Path already found: ../data/raw/BOS/BOS_0042300302.parquet\n",
      "Path already found: ../data/raw/BOS/BOS_0042300301.parquet\n",
      "Path already found: ../data/raw/BOS/BOS_0042300205.parquet\n",
      "Path already found: ../data/raw/BOS/BOS_0042300204.parquet\n",
      "Path already found: ../data/raw/BOS/BOS_0042300203.parquet\n",
      "Path already found: ../data/raw/BOS/BOS_0042300202.parquet\n",
      "Path already found: ../data/raw/BOS/BOS_0042300201.parquet\n",
      "Path already found: ../data/raw/BOS/BOS_0042300105.parquet\n",
      "Path already found: ../data/raw/BOS/BOS_0042300104.parquet\n",
      "Path already found: ../data/raw/BOS/BOS_0042300103.parquet\n",
      "Path already found: ../data/raw/BOS/BOS_0042300102.parquet\n",
      "Path already found: ../data/raw/BOS/BOS_0042300101.parquet\n",
      "Path already found: ../data/raw/BOS/BOS_0022301186.parquet\n",
      "Path already found: ../data/raw/BOS/BOS_0022301173.parquet\n",
      "Path already found: ../data/raw/BOS/BOS_0022301167.parquet\n",
      "Path already found: ../data/raw/BOS/BOS_0022301148.parquet\n",
      "Path already found: ../data/raw/BOS/BOS_0022301134.parquet\n",
      "Path already found: ../data/raw/BOS/BOS_0022301118.parquet\n",
      "Path already found: ../data/raw/BOS/BOS_0022301105.parquet\n",
      "Path already found: ../data/raw/BOS/BOS_0022301087.parquet\n",
      "Path already found: ../data/raw/BOS/BOS_0022301074.parquet\n",
      "Path already found: ../data/raw/BOS/BOS_0022301060.parquet\n",
      "Path already found: ../data/raw/BOS/BOS_0022301034.parquet\n",
      "Path already found: ../data/raw/BOS/BOS_0022301023.parquet\n",
      "Path already found: ../data/raw/BOS/BOS_0022301011.parquet\n",
      "Path already found: ../data/raw/BOS/BOS_0022300998.parquet\n",
      "Path already found: ../data/raw/BOS/BOS_0022300984.parquet\n",
      "Path already found: ../data/raw/BOS/BOS_0022300980.parquet\n",
      "Path already found: ../data/raw/BOS/BOS_0022300955.parquet\n",
      "Path already found: ../data/raw/BOS/BOS_0022300943.parquet\n",
      "Path already found: ../data/raw/BOS/BOS_0022300938.parquet\n",
      "Path already found: ../data/raw/BOS/BOS_0022300920.parquet\n",
      "Path already found: ../data/raw/BOS/BOS_0022300906.parquet\n",
      "Path already found: ../data/raw/BOS/BOS_0022300886.parquet\n",
      "Path already found: ../data/raw/BOS/BOS_0022300872.parquet\n",
      "Path already found: ../data/raw/BOS/BOS_0022300859.parquet\n",
      "Game Successfully Processed: 0022300836\n",
      "Game Successfully Processed: 0022300816\n",
      "Path already found: ../data/raw/BOS/BOS_0022300797.parquet\n",
      "Path already found: ../data/raw/BOS/BOS_0022300780.parquet\n",
      "Path already found: ../data/raw/BOS/BOS_0022300771.parquet\n",
      "Path already found: ../data/raw/BOS/BOS_0022300759.parquet\n",
      "Path already found: ../data/raw/BOS/BOS_0022300743.parquet\n",
      "Path already found: ../data/raw/BOS/BOS_0022300729.parquet\n",
      "Path already found: ../data/raw/BOS/BOS_0022300706.parquet\n",
      "Path already found: ../data/raw/BOS/BOS_0022300684.parquet\n",
      "Path already found: ../data/raw/BOS/BOS_0022300670.parquet\n",
      "Path already found: ../data/raw/BOS/BOS_0022300659.parquet\n",
      "Path already found: ../data/raw/BOS/BOS_0022300646.parquet\n",
      "Path already found: ../data/raw/BOS/BOS_0022300630.parquet\n",
      "Path already found: ../data/raw/BOS/BOS_0022300611.parquet\n",
      "Path already found: ../data/raw/BOS/BOS_0022300603.parquet\n",
      "Path already found: ../data/raw/BOS/BOS_0022300586.parquet\n",
      "Game Successfully Processed: 0022300571\n",
      "Path already found: ../data/raw/BOS/BOS_0022300563.parquet\n",
      "Path already found: ../data/raw/BOS/BOS_0022300542.parquet\n",
      "Path already found: ../data/raw/BOS/BOS_0022300528.parquet\n",
      "Path already found: ../data/raw/BOS/BOS_0022300517.parquet\n",
      "Path already found: ../data/raw/BOS/BOS_0022300507.parquet\n",
      "Path already found: ../data/raw/BOS/BOS_0022300493.parquet\n",
      "Path already found: ../data/raw/BOS/BOS_0022300479.parquet\n",
      "Path already found: ../data/raw/BOS/BOS_0022300462.parquet\n",
      "Path already found: ../data/raw/BOS/BOS_0022300448.parquet\n",
      "Path already found: ../data/raw/BOS/BOS_0022300432.parquet\n",
      "Path already found: ../data/raw/BOS/BOS_0022300421.parquet\n",
      "Path already found: ../data/raw/BOS/BOS_0022300403.parquet\n",
      "Path already found: ../data/raw/BOS/BOS_0022300389.parquet\n",
      "Path already found: ../data/raw/BOS/BOS_0022300373.parquet\n",
      "Path already found: ../data/raw/BOS/BOS_0022300362.parquet\n",
      "Path already found: ../data/raw/BOS/BOS_0022300344.parquet\n",
      "Path already found: ../data/raw/BOS/BOS_0022300329.parquet\n",
      "Path already found: ../data/raw/BOS/BOS_0022300319.parquet\n",
      "Path already found: ../data/raw/BOS/BOS_0022300305.parquet\n",
      "Path already found: ../data/raw/BOS/BOS_0022301227.parquet\n",
      "Path already found: ../data/raw/BOS/BOS_0022301202.parquet\n",
      "Path already found: ../data/raw/BOS/BOS_0022300275.parquet\n",
      "Path already found: ../data/raw/BOS/BOS_0022300053.parquet\n",
      "Path already found: ../data/raw/BOS/BOS_0022300246.parquet\n",
      "Path already found: ../data/raw/BOS/BOS_0022300043.parquet\n",
      "Path already found: ../data/raw/BOS/BOS_0022300228.parquet\n",
      "Path already found: ../data/raw/BOS/BOS_0022300217.parquet\n",
      "Path already found: ../data/raw/BOS/BOS_0022300213.parquet\n",
      "Game Successfully Processed: 0022300031\n",
      "Game Successfully Processed: 0022300194\n",
      "Game Successfully Processed: 0022300188\n",
      "Game Successfully Processed: 0022300174\n",
      "Game Successfully Processed: 0022300010\n",
      "Game Successfully Processed: 0022300159\n",
      "Game Successfully Processed: 0022300154\n",
      "Game Successfully Processed: 0022300136\n",
      "Game Successfully Processed: 0022300118\n",
      "Game Successfully Processed: 0022300103\n",
      "Game Successfully Processed: 0022300080\n",
      "Game Successfully Processed: 0022300065\n",
      "Path already found: ../data/raw/BOS/BOS_0012300060.parquet\n",
      "Path already found: ../data/raw/BOS/BOS_0012300051.parquet\n",
      "Path already found: ../data/raw/BOS/BOS_0012300023.parquet\n",
      "Path already found: ../data/raw/BOS/BOS_0012300010.parquet\n",
      "Path already found: ../data/raw/BOS/BOS_0012300006.parquet\n",
      "All games processed successfully.\n"
     ]
    }
   ],
   "source": [
    "directory = f'../data/raw/{team}'\n",
    "if not os.path.exists(directory):\n",
    "    os.makedirs(directory)\n",
    "    print(f\"new directory made: {directory}\")\n",
    "\n",
    "unprocessed = game_ids.copy()\n",
    "attempt = 0\n",
    "\n",
    "while (attempt < 3) & (len(unprocessed)>0):\n",
    "    attempt += 1\n",
    "    for game_id in game_ids:\n",
    "        ind = unprocessed.index(game_id)\n",
    "        file_name = f\"{team}_{game_id}.parquet\"\n",
    "        file_path = os.path.join(directory,file_name)\n",
    "        if os.path.exists(file_path):\n",
    "            print(f\"Path already found: {file_path}\")\n",
    "            del unprocessed[ind]\n",
    "            continue\n",
    "        try:\n",
    "            data = playbyplayv3.PlayByPlayV3(game_id=f\"{game_id}\")\n",
    "            df = data.get_data_frames()[0]\n",
    "            df.to_parquet(file_path, index=False)\n",
    "            print(f\"Game Successfully Processed: {game_id}\" )\n",
    "            del unprocessed[ind]\n",
    "        except:\n",
    "            print(f\"FAILED: Unable to process data from game_id: {game_id}.\")\n",
    "\n",
    "if len(unprocessed) > 0:\n",
    "    [print(f\"Failed to process {game_id}\") for game_id in unprocessed]\n",
    "else:\n",
    "    print(\"All games processed successfully.\")\n"
   ]
  },
  {
   "cell_type": "code",
   "execution_count": 61,
   "metadata": {},
   "outputs": [
    {
     "name": "stdout",
     "output_type": "stream",
     "text": [
      "[]\n"
     ]
    }
   ],
   "source": [
    "unprocessed = ['1', '2', '3', '4', '5']\n",
    "for id in unprocessed[:]:\n",
    "    ind = unprocessed.index(id)\n",
    "    del unprocessed[ind]\n",
    "print(unprocessed)"
   ]
  },
  {
   "cell_type": "code",
   "execution_count": 51,
   "metadata": {},
   "outputs": [
    {
     "name": "stdout",
     "output_type": "stream",
     "text": [
      "Failed to process 1\n",
      "Failed to process 2\n",
      "Failed to process 3\n"
     ]
    }
   ],
   "source": [
    "unprocessed = ['1', '2', '3']\n",
    "if len(unprocessed) > 0:\n",
    "    [print(f\"Failed to process {game_id}\") for game_id in unprocessed]"
   ]
  },
  {
   "cell_type": "code",
   "execution_count": 7,
   "metadata": {},
   "outputs": [
    {
     "data": {
      "text/plain": [
       "actionType\n",
       "Rebound           103\n",
       "Missed Shot        94\n",
       "Made Shot          73\n",
       "Substitution       52\n",
       "Foul               35\n",
       "Free Throw         33\n",
       "Turnover           22\n",
       "                   19\n",
       "Timeout            11\n",
       "period              8\n",
       "Jump Ball           3\n",
       "Instant Replay      2\n",
       "Name: count, dtype: int64"
      ]
     },
     "execution_count": 7,
     "metadata": {},
     "output_type": "execute_result"
    }
   ],
   "source": [
    "df['actionType'].value_counts()"
   ]
  },
  {
   "cell_type": "code",
   "execution_count": null,
   "metadata": {},
   "outputs": [],
   "source": [
    "df[['gameId', 'clock', 'period', 'teamId', 'personId', 'isFieldGoal', 'shotResult', 'scoreHome', 'scoreAway', 'description', 'actionType', 'shotValue']]"
   ]
  },
  {
   "cell_type": "code",
   "execution_count": 18,
   "metadata": {},
   "outputs": [
    {
     "data": {
      "text/plain": [
       "\"Holiday 2' Driving Finger Roll Layup (4 PTS) (Tatum 2 AST)\""
      ]
     },
     "execution_count": 18,
     "metadata": {},
     "output_type": "execute_result"
    }
   ],
   "source": [
    "df.loc[21, 'description']"
   ]
  }
 ],
 "metadata": {
  "kernelspec": {
   "display_name": "Python 3",
   "language": "python",
   "name": "python3"
  },
  "language_info": {
   "codemirror_mode": {
    "name": "ipython",
    "version": 3
   },
   "file_extension": ".py",
   "mimetype": "text/x-python",
   "name": "python",
   "nbconvert_exporter": "python",
   "pygments_lexer": "ipython3",
   "version": "3.11.10"
  }
 },
 "nbformat": 4,
 "nbformat_minor": 2
}
