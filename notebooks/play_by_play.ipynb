{
 "cells": [
  {
   "cell_type": "code",
   "execution_count": 62,
   "metadata": {},
   "outputs": [],
   "source": [
    "from nba_api.stats.endpoints import playbyplayv3, leaguegamefinder\n",
    "import pandas as pd\n",
    "import pyarrow\n",
    "import os\n",
    "pd.set_option('display.max_columns', 100)\n",
    "pd.set_option('display.max_rows', None)"
   ]
  },
  {
   "cell_type": "code",
   "execution_count": 76,
   "metadata": {},
   "outputs": [],
   "source": [
    "# Retrieve all games from 2023-24 season\n",
    "season = \"2023-24\"  # Modify this as needed\n",
    "gamefinder = leaguegamefinder.LeagueGameFinder(season_nullable=season)\n",
    "games_df = gamefinder.get_data_frames()[0]"
   ]
  },
  {
   "cell_type": "code",
   "execution_count": 81,
   "metadata": {},
   "outputs": [],
   "source": [
    "# Filter for specific team, extract list of games\n",
    "team = \"DAL\"\n",
    "team_games = games_df[games_df['TEAM_ABBREVIATION'] == f\"{team}\"]\n",
    "game_ids = team_games['GAME_ID'].to_list()"
   ]
  },
  {
   "cell_type": "code",
   "execution_count": 85,
   "metadata": {},
   "outputs": [
    {
     "name": "stdout",
     "output_type": "stream",
     "text": [
      "Directory exists: ../data/raw/DAL\n"
     ]
    }
   ],
   "source": [
    "# Confirm directory exists or create new directory\n",
    "directory = f'../data/raw/{team}'\n",
    "if not os.path.exists(directory):\n",
    "    os.makedirs(directory)\n",
    "    print(f\"new directory made: {directory}\")\n",
    "else:\n",
    "    print(f\"Directory exists: {directory}\")"
   ]
  },
  {
   "cell_type": "code",
   "execution_count": 90,
   "metadata": {},
   "outputs": [
    {
     "name": "stdout",
     "output_type": "stream",
     "text": [
      "Path already found: ../data/raw/DAL/DAL_0042300405.parquet\n",
      "Path already found: ../data/raw/DAL/DAL_0042300404.parquet\n",
      "Path already found: ../data/raw/DAL/DAL_0042300403.parquet\n",
      "Path already found: ../data/raw/DAL/DAL_0042300402.parquet\n",
      "Path already found: ../data/raw/DAL/DAL_0042300401.parquet\n",
      "Path already found: ../data/raw/DAL/DAL_0042300315.parquet\n",
      "Path already found: ../data/raw/DAL/DAL_0042300314.parquet\n",
      "Path already found: ../data/raw/DAL/DAL_0042300313.parquet\n",
      "Path already found: ../data/raw/DAL/DAL_0042300312.parquet\n",
      "Path already found: ../data/raw/DAL/DAL_0042300311.parquet\n",
      "Path already found: ../data/raw/DAL/DAL_0042300226.parquet\n",
      "Path already found: ../data/raw/DAL/DAL_0042300225.parquet\n",
      "Path already found: ../data/raw/DAL/DAL_0042300224.parquet\n",
      "Path already found: ../data/raw/DAL/DAL_0042300223.parquet\n",
      "Path already found: ../data/raw/DAL/DAL_0042300222.parquet\n",
      "Path already found: ../data/raw/DAL/DAL_0042300221.parquet\n",
      "Path already found: ../data/raw/DAL/DAL_0042300176.parquet\n",
      "Path already found: ../data/raw/DAL/DAL_0042300175.parquet\n",
      "Path already found: ../data/raw/DAL/DAL_0042300174.parquet\n",
      "Path already found: ../data/raw/DAL/DAL_0042300173.parquet\n",
      "Path already found: ../data/raw/DAL/DAL_0042300172.parquet\n",
      "Path already found: ../data/raw/DAL/DAL_0042300171.parquet\n",
      "Path already found: ../data/raw/DAL/DAL_0022301196.parquet\n",
      "Path already found: ../data/raw/DAL/DAL_0022301181.parquet\n",
      "Path already found: ../data/raw/DAL/DAL_0022301161.parquet\n",
      "Path already found: ../data/raw/DAL/DAL_0022301144.parquet\n",
      "Path already found: ../data/raw/DAL/DAL_0022301131.parquet\n",
      "Path already found: ../data/raw/DAL/DAL_0022301097.parquet\n",
      "Path already found: ../data/raw/DAL/DAL_0022301124.parquet\n",
      "Path already found: ../data/raw/DAL/DAL_0022300589.parquet\n",
      "Path already found: ../data/raw/DAL/DAL_0022301083.parquet\n",
      "Path already found: ../data/raw/DAL/DAL_0022301073.parquet\n",
      "Path already found: ../data/raw/DAL/DAL_0022301047.parquet\n",
      "Path already found: ../data/raw/DAL/DAL_0022301041.parquet\n",
      "Path already found: ../data/raw/DAL/DAL_0022301008.parquet\n",
      "Path already found: ../data/raw/DAL/DAL_0022300994.parquet\n",
      "Path already found: ../data/raw/DAL/DAL_0022300978.parquet\n",
      "Path already found: ../data/raw/DAL/DAL_0022300959.parquet\n",
      "Path already found: ../data/raw/DAL/DAL_0022300952.parquet\n",
      "Path already found: ../data/raw/DAL/DAL_0022300935.parquet\n",
      "Path already found: ../data/raw/DAL/DAL_0022300919.parquet\n",
      "Path already found: ../data/raw/DAL/DAL_0022300904.parquet\n",
      "Path already found: ../data/raw/DAL/DAL_0022300892.parquet\n",
      "Path already found: ../data/raw/DAL/DAL_0022300871.parquet\n",
      "Path already found: ../data/raw/DAL/DAL_0022300859.parquet\n",
      "Path already found: ../data/raw/DAL/DAL_0022300844.parquet\n",
      "Path already found: ../data/raw/DAL/DAL_0022300832.parquet\n",
      "Path already found: ../data/raw/DAL/DAL_0022300819.parquet\n",
      "Path already found: ../data/raw/DAL/DAL_0022300796.parquet\n",
      "Path already found: ../data/raw/DAL/DAL_0022300785.parquet\n",
      "Path already found: ../data/raw/DAL/DAL_0022300768.parquet\n",
      "Path already found: ../data/raw/DAL/DAL_0022300748.parquet\n",
      "Path already found: ../data/raw/DAL/DAL_0022300736.parquet\n",
      "Path already found: ../data/raw/DAL/DAL_0022300720.parquet\n",
      "Path already found: ../data/raw/DAL/DAL_0022300715.parquet\n",
      "Path already found: ../data/raw/DAL/DAL_0022300702.parquet\n",
      "Path already found: ../data/raw/DAL/DAL_0022300680.parquet\n",
      "Path already found: ../data/raw/DAL/DAL_0022300666.parquet\n",
      "Path already found: ../data/raw/DAL/DAL_0022300651.parquet\n",
      "Path already found: ../data/raw/DAL/DAL_0022300634.parquet\n",
      "Path already found: ../data/raw/DAL/DAL_0022300625.parquet\n",
      "Path already found: ../data/raw/DAL/DAL_0022300611.parquet\n",
      "Path already found: ../data/raw/DAL/DAL_0022300577.parquet\n",
      "Path already found: ../data/raw/DAL/DAL_0022300556.parquet\n",
      "Path already found: ../data/raw/DAL/DAL_0022300547.parquet\n",
      "Path already found: ../data/raw/DAL/DAL_0022300530.parquet\n",
      "Path already found: ../data/raw/DAL/DAL_0022300515.parquet\n",
      "Path already found: ../data/raw/DAL/DAL_0022300501.parquet\n",
      "Path already found: ../data/raw/DAL/DAL_0022300487.parquet\n",
      "Path already found: ../data/raw/DAL/DAL_0022300472.parquet\n",
      "Path already found: ../data/raw/DAL/DAL_0022300457.parquet\n",
      "Path already found: ../data/raw/DAL/DAL_0022300444.parquet\n",
      "Path already found: ../data/raw/DAL/DAL_0022300423.parquet\n",
      "Path already found: ../data/raw/DAL/DAL_0022300420.parquet\n",
      "Path already found: ../data/raw/DAL/DAL_0022300405.parquet\n",
      "Path already found: ../data/raw/DAL/DAL_0022300398.parquet\n",
      "Path already found: ../data/raw/DAL/DAL_0022300385.parquet\n",
      "Path already found: ../data/raw/DAL/DAL_0022300372.parquet\n",
      "Path already found: ../data/raw/DAL/DAL_0022300356.parquet\n",
      "Path already found: ../data/raw/DAL/DAL_0022300341.parquet\n",
      "Path already found: ../data/raw/DAL/DAL_0022300321.parquet\n",
      "Path already found: ../data/raw/DAL/DAL_0022300306.parquet\n",
      "Path already found: ../data/raw/DAL/DAL_0022300299.parquet\n",
      "Path already found: ../data/raw/DAL/DAL_0022301226.parquet\n",
      "Path already found: ../data/raw/DAL/DAL_0022301213.parquet\n",
      "Path already found: ../data/raw/DAL/DAL_0022300287.parquet\n",
      "Path already found: ../data/raw/DAL/DAL_0022300277.parquet\n",
      "Path already found: ../data/raw/DAL/DAL_0022300059.parquet\n",
      "Path already found: ../data/raw/DAL/DAL_0022300244.parquet\n",
      "Path already found: ../data/raw/DAL/DAL_0022300238.parquet\n",
      "Path already found: ../data/raw/DAL/DAL_0022300212.parquet\n",
      "Path already found: ../data/raw/DAL/DAL_0022300205.parquet\n",
      "Path already found: ../data/raw/DAL/DAL_0022300192.parquet\n",
      "Path already found: ../data/raw/DAL/DAL_0022300022.parquet\n",
      "Path already found: ../data/raw/DAL/DAL_0022300183.parquet\n",
      "Path already found: ../data/raw/DAL/DAL_0022300014.parquet\n",
      "Path already found: ../data/raw/DAL/DAL_0022300168.parquet\n",
      "Path already found: ../data/raw/DAL/DAL_0022300147.parquet\n",
      "Path already found: ../data/raw/DAL/DAL_0022300143.parquet\n",
      "Path already found: ../data/raw/DAL/DAL_0022300006.parquet\n",
      "Path already found: ../data/raw/DAL/DAL_0022300124.parquet\n",
      "Path already found: ../data/raw/DAL/DAL_0022300106.parquet\n",
      "Path already found: ../data/raw/DAL/DAL_0022300084.parquet\n",
      "Path already found: ../data/raw/DAL/DAL_0022300073.parquet\n",
      "Path already found: ../data/raw/DAL/DAL_0012300070.parquet\n",
      "Path already found: ../data/raw/DAL/DAL_0012300013.parquet\n",
      "Path already found: ../data/raw/DAL/DAL_0012300002.parquet\n",
      "Path already found: ../data/raw/DAL/DAL_0012300001.parquet\n",
      "All games processed successfully.\n"
     ]
    }
   ],
   "source": [
    "# Retrieve and save parquet file for each play-by-play game data\n",
    "unprocessed = game_ids.copy()\n",
    "attempt = 0\n",
    "\n",
    "while (attempt < 3) & (len(unprocessed)>0):\n",
    "    attempt += 1\n",
    "    for game_id in unprocessed[:]:\n",
    "        ind = unprocessed.index(game_id)\n",
    "        file_name = f\"{team}_{game_id}.parquet\"\n",
    "        file_path = os.path.join(directory,file_name)\n",
    "        if os.path.exists(file_path):\n",
    "            print(f\"Path already found: {file_path}\")\n",
    "            del unprocessed[ind]\n",
    "            continue\n",
    "        try:\n",
    "            data = playbyplayv3.PlayByPlayV3(game_id=f\"{game_id}\")\n",
    "            df = data.get_data_frames()[0]\n",
    "            df.to_parquet(file_path, index=False)\n",
    "            print(f\"Game Successfully Processed: {game_id}\" )\n",
    "            del unprocessed[ind]\n",
    "        except:\n",
    "            print(f\"FAILED: Unable to process data from game_id: {game_id}.\")\n",
    "\n",
    "if len(unprocessed) > 0:\n",
    "    [print(f\"Failed to process {game_id}\") for game_id in unprocessed]\n",
    "else:\n",
    "    print(\"All games processed successfully.\")\n"
   ]
  },
  {
   "cell_type": "code",
   "execution_count": 7,
   "metadata": {},
   "outputs": [
    {
     "data": {
      "text/plain": [
       "actionType\n",
       "Rebound           103\n",
       "Missed Shot        94\n",
       "Made Shot          73\n",
       "Substitution       52\n",
       "Foul               35\n",
       "Free Throw         33\n",
       "Turnover           22\n",
       "                   19\n",
       "Timeout            11\n",
       "period              8\n",
       "Jump Ball           3\n",
       "Instant Replay      2\n",
       "Name: count, dtype: int64"
      ]
     },
     "execution_count": 7,
     "metadata": {},
     "output_type": "execute_result"
    }
   ],
   "source": [
    "df['actionType'].value_counts()"
   ]
  },
  {
   "cell_type": "code",
   "execution_count": null,
   "metadata": {},
   "outputs": [],
   "source": [
    "df[['gameId', 'clock', 'period', 'teamId', 'personId', 'isFieldGoal', 'shotResult', 'scoreHome', 'scoreAway', 'description', 'actionType', 'shotValue']]"
   ]
  },
  {
   "cell_type": "code",
   "execution_count": 18,
   "metadata": {},
   "outputs": [
    {
     "data": {
      "text/plain": [
       "\"Holiday 2' Driving Finger Roll Layup (4 PTS) (Tatum 2 AST)\""
      ]
     },
     "execution_count": 18,
     "metadata": {},
     "output_type": "execute_result"
    }
   ],
   "source": [
    "df.loc[21, 'description']"
   ]
  }
 ],
 "metadata": {
  "kernelspec": {
   "display_name": "Python 3",
   "language": "python",
   "name": "python3"
  },
  "language_info": {
   "codemirror_mode": {
    "name": "ipython",
    "version": 3
   },
   "file_extension": ".py",
   "mimetype": "text/x-python",
   "name": "python",
   "nbconvert_exporter": "python",
   "pygments_lexer": "ipython3",
   "version": "3.11.10"
  }
 },
 "nbformat": 4,
 "nbformat_minor": 2
}
