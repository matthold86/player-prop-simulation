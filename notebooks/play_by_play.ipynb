{
 "cells": [
  {
   "cell_type": "code",
   "execution_count": 62,
   "metadata": {},
   "outputs": [],
   "source": [
    "from nba_api.stats.endpoints import playbyplayv3, leaguegamefinder\n",
    "import pandas as pd\n",
    "import pyarrow\n",
    "import os\n",
    "pd.set_option('display.max_columns', 100)\n",
    "pd.set_option('display.max_rows', None)"
   ]
  },
  {
   "cell_type": "code",
   "execution_count": 76,
   "metadata": {},
   "outputs": [],
   "source": [
    "# Retrieve all games from 2023-24 season\n",
    "season = \"2023-24\"  # Modify this as needed\n",
    "gamefinder = leaguegamefinder.LeagueGameFinder(season_nullable=season)\n",
    "games_df = gamefinder.get_data_frames()[0]"
   ]
  },
  {
   "cell_type": "code",
   "execution_count": 81,
   "metadata": {},
   "outputs": [],
   "source": [
    "# Filter for specific team, extract list of games\n",
    "team = \"DAL\"\n",
    "team_games = games_df[games_df['TEAM_ABBREVIATION'] == f\"{team}\"]\n",
    "game_ids = team_games['GAME_ID'].to_list()"
   ]
  },
  {
   "cell_type": "code",
   "execution_count": 85,
   "metadata": {},
   "outputs": [
    {
     "name": "stdout",
     "output_type": "stream",
     "text": [
      "Directory exists: ../data/raw/DAL\n"
     ]
    }
   ],
   "source": [
    "# Confirm directory exists or create new directory\n",
    "directory = f'../data/raw/{team}'\n",
    "if not os.path.exists(directory):\n",
    "    os.makedirs(directory)\n",
    "    print(f\"new directory made: {directory}\")\n",
    "else:\n",
    "    print(f\"Directory exists: {directory}\")"
   ]
  },
  {
   "cell_type": "code",
   "execution_count": null,
   "metadata": {},
   "outputs": [],
   "source": [
    "# Retrieve and save parquet file for each play-by-play game data\n",
    "unprocessed = game_ids.copy()\n",
    "attempt = 0\n",
    "\n",
    "while (attempt < 3) & (len(unprocessed)>0):\n",
    "    attempt += 1\n",
    "    for game_id in unprocessed[:]:\n",
    "        ind = unprocessed.index(game_id)\n",
    "        file_name = f\"{team}_{game_id}.parquet\"\n",
    "        file_path = os.path.join(directory,file_name)\n",
    "        if os.path.exists(file_path):\n",
    "            print(f\"Path already found: {file_path}\")\n",
    "            del unprocessed[ind]\n",
    "            continue\n",
    "        try:\n",
    "            data = playbyplayv3.PlayByPlayV3(game_id=f\"{game_id}\")\n",
    "            df = data.get_data_frames()[0]\n",
    "            df.to_parquet(file_path, index=False)\n",
    "            print(f\"Game Successfully Processed: {game_id}\" )\n",
    "            del unprocessed[ind]\n",
    "        except:\n",
    "            print(f\"FAILED: Unable to process data from game_id: {game_id}.\")\n",
    "\n",
    "if len(unprocessed) > 0:\n",
    "    [print(f\"Failed to process {game_id}\") for game_id in unprocessed]\n",
    "else:\n",
    "    print(\"All games processed successfully.\")\n"
   ]
  },
  {
   "cell_type": "code",
   "execution_count": 7,
   "metadata": {},
   "outputs": [
    {
     "data": {
      "text/plain": [
       "actionType\n",
       "Rebound           103\n",
       "Missed Shot        94\n",
       "Made Shot          73\n",
       "Substitution       52\n",
       "Foul               35\n",
       "Free Throw         33\n",
       "Turnover           22\n",
       "                   19\n",
       "Timeout            11\n",
       "period              8\n",
       "Jump Ball           3\n",
       "Instant Replay      2\n",
       "Name: count, dtype: int64"
      ]
     },
     "execution_count": 7,
     "metadata": {},
     "output_type": "execute_result"
    }
   ],
   "source": [
    "df['actionType'].value_counts()"
   ]
  },
  {
   "cell_type": "code",
   "execution_count": null,
   "metadata": {},
   "outputs": [],
   "source": [
    "df[['gameId', 'clock', 'period', 'teamId', 'personId', 'isFieldGoal', 'shotResult', 'scoreHome', 'scoreAway', 'description', 'actionType', 'shotValue']]"
   ]
  },
  {
   "cell_type": "code",
   "execution_count": 18,
   "metadata": {},
   "outputs": [
    {
     "data": {
      "text/plain": [
       "\"Holiday 2' Driving Finger Roll Layup (4 PTS) (Tatum 2 AST)\""
      ]
     },
     "execution_count": 18,
     "metadata": {},
     "output_type": "execute_result"
    }
   ],
   "source": [
    "df.loc[21, 'description']"
   ]
  }
 ],
 "metadata": {
  "kernelspec": {
   "display_name": "Python 3",
   "language": "python",
   "name": "python3"
  },
  "language_info": {
   "codemirror_mode": {
    "name": "ipython",
    "version": 3
   },
   "file_extension": ".py",
   "mimetype": "text/x-python",
   "name": "python",
   "nbconvert_exporter": "python",
   "pygments_lexer": "ipython3",
   "version": "3.11.10"
  }
 },
 "nbformat": 4,
 "nbformat_minor": 2
}
