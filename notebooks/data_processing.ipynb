{
 "cells": [
  {
   "cell_type": "code",
   "execution_count": 1,
   "metadata": {},
   "outputs": [
    {
     "data": {
      "text/plain": [
       "True"
      ]
     },
     "execution_count": 1,
     "metadata": {},
     "output_type": "execute_result"
    }
   ],
   "source": [
    "from nba_api.stats.endpoints import playergamelog, boxscoreadvancedv2\n",
    "import pandas as pd\n",
    "import numpy as np\n",
    "import time\n",
    "import random\n",
    "import sys\n",
    "import sqlite3\n",
    "from dotenv import load_dotenv\n",
    "import os\n",
    "import ace_tools_open as tools\n",
    "\n",
    "pd.set_option('display.max_columns', 500)\n",
    "pd.set_option('display.max_rows', 500)\n",
    "\n",
    "load_dotenv()"
   ]
  },
  {
   "cell_type": "code",
   "execution_count": 2,
   "metadata": {},
   "outputs": [],
   "source": [
    "def database_connect():\n",
    "\n",
    "    DB_PATH = os.path.join(os.getenv(\"DB_PATH\"), \"nba_data.db\")\n",
    "    print(DB_PATH)\n",
    "    conn = sqlite3.connect(DB_PATH)\n",
    "    cursor = conn.cursor()\n",
    "\n",
    "    return conn, cursor"
   ]
  },
  {
   "cell_type": "markdown",
   "metadata": {},
   "source": [
    "___________\n",
    "## Gamelog With Advanced Stats"
   ]
  },
  {
   "cell_type": "code",
   "execution_count": 3,
   "metadata": {},
   "outputs": [],
   "source": [
    "class PlayerProfile:\n",
    "    def __init__(self, name, player_id, seasons):\n",
    "        self.name = name\n",
    "        self.id = player_id\n",
    "        self.seasons = seasons\n",
    "        self.gamelog = self.collect_stats(player_id, seasons)\n",
    "        self.advanced_stats = self\n",
    "\n",
    "    def __str__(self):\n",
    "        return self.name  # This controls what gets printed when using print(object)\n",
    "\n",
    "    def __repr__(self):\n",
    "        return f\"PlayerProfile(name={self.name!r})\"\n",
    "    \n",
    "    def collect_stats(self, player_id, seasons):\n",
    "        gamelog = self.collect_gamelog(player_id, seasons)\n",
    "        gamelog = self.collect_adv_stats(gamelog, player_id)\n",
    "\n",
    "        return gamelog\n",
    "\n",
    "    def collect_gamelog(self, player_id, seasons):\n",
    "        gamelog = pd.DataFrame()\n",
    "        for season in seasons:\n",
    "            data = playergamelog.PlayerGameLog(player_id=player_id, season=season)\n",
    "            data = data.get_dict()\n",
    "            if gamelog.empty:\n",
    "                cols = data['resultSets'][0]['headers']\n",
    "                gamelog = pd.DataFrame(columns=cols)\n",
    "            observations = data['resultSets'][0]['rowSet']\n",
    "            gamelog = pd.concat([gamelog, pd.DataFrame(observations, columns=gamelog.columns)], ignore_index=True)\n",
    "\n",
    "        return gamelog\n",
    "    \n",
    "    def collect_adv_stats(self, gamelog, player_id):\n",
    "        '''manage advanced stats'''\n",
    "        categories = ['E_USG_PCT', 'E_OFF_RATING', 'E_DEF_RATING', 'PACE_PER40', 'TS_PCT', 'AST_PCT']\n",
    "\n",
    "        # Ensure gamelog has the columns for advanced stats\n",
    "        for col in categories:\n",
    "            gamelog[col] = None  # Initialize empty columns\n",
    "        \n",
    "        # Iterate over each game entry\n",
    "        for idx, row in gamelog.iterrows():\n",
    "            game_id = row['Game_ID']\n",
    "            \n",
    "            try:\n",
    "                # Print dynamic status update (overwriting the previous game_id)\n",
    "                sys.stdout.write(f\"\\rProcessing game: {game_id}... \")\n",
    "                sys.stdout.flush()\n",
    "\n",
    "                # Introduce a random delay before making the API request\n",
    "                sleep_time = random.uniform(1,2)  # Sleep between 1 to 5 seconds\n",
    "                time.sleep(sleep_time)\n",
    "                stats = self.adv_stats_by_game(game_id, player_id)  # Retrieve stats\n",
    "                for col in categories:\n",
    "                    gamelog.at[idx, col] = stats[col]  # Update DataFrame\n",
    "            except AssertionError as e:\n",
    "                print(f\"Skipping game {game_id} due to error: {e}\")\n",
    "            except Exception as e:\n",
    "                print(f\"Unexpected error retrieving stats for game {game_id}: {e}\")\n",
    "\n",
    "        return gamelog  # Return the updated DataFrame\n",
    "        \n",
    "\n",
    "\n",
    "    def adv_stats_by_game(self, game_id, player_id):\n",
    "        categories = ['E_USG_PCT', 'E_OFF_RATING', 'E_DEF_RATING', 'PACE_PER40', 'TS_PCT', 'AST_PCT']\n",
    "        result = boxscoreadvancedv2.BoxScoreAdvancedV2(game_id=str(game_id))\n",
    "        result = result.get_dict()\n",
    "        data = pd.DataFrame(\n",
    "            data=result['resultSets'][0]['rowSet'],\n",
    "            columns=result['resultSets'][0]['headers'])\n",
    "        pl = data[data['PLAYER_ID'] == int(player_id)]\n",
    "        assert len(pl) == 1, \"Too many rows returned for game/player advanced stats pull.\"\n",
    "        return pl[categories].iloc[0].to_dict()\n",
    "\n",
    "\n",
    "\n",
    "\n"
   ]
  },
  {
   "cell_type": "code",
   "execution_count": 4,
   "metadata": {},
   "outputs": [
    {
     "name": "stderr",
     "output_type": "stream",
     "text": [
      "/var/folders/fm/7zh52wdj2mx7v17vqtcy7ggc0000gn/T/ipykernel_3620/4164399261.py:30: FutureWarning: The behavior of DataFrame concatenation with empty or all-NA entries is deprecated. In a future version, this will no longer exclude empty or all-NA columns when determining the result dtypes. To retain the old behavior, exclude the relevant entries before the concat operation.\n",
      "  gamelog = pd.concat([gamelog, pd.DataFrame(observations, columns=gamelog.columns)], ignore_index=True)\n"
     ]
    },
    {
     "name": "stdout",
     "output_type": "stream",
     "text": [
      "Processing game: 0022000006... Torrey Craig\n"
     ]
    }
   ],
   "source": [
    "SEASONS = [\n",
    "    '2024-25',\n",
    "    '2023-24',\n",
    "    '2022-23',\n",
    "    '2021-22',\n",
    "    '2020-21'\n",
    "]\n",
    "PLAYER_ID = '1628470'\n",
    "NAME = 'Torrey Craig'\n",
    "player = PlayerProfile(\n",
    "    name=NAME,\n",
    "    player_id=PLAYER_ID,\n",
    "    seasons=SEASONS\n",
    ")\n",
    "print(player)"
   ]
  },
  {
   "cell_type": "code",
   "execution_count": 11,
   "metadata": {},
   "outputs": [],
   "source": [
    "### Cleanup Code for missing values\n",
    "missed_game = '0022101042'\n",
    "categories = ['E_USG_PCT', 'E_OFF_RATING', 'E_DEF_RATING', 'PACE_PER40', 'TS_PCT', 'AST_PCT']\n",
    "data = player.adv_stats_by_game(game_id=missed_game, player_id=player.id)\n",
    "for cat, val in data.items():\n",
    "    player.gamelog.loc[(player.gamelog['Game_ID'] == missed_game), cat] = val\n"
   ]
  },
  {
   "cell_type": "code",
   "execution_count": 9,
   "metadata": {},
   "outputs": [
    {
     "data": {
      "text/plain": [
       "37"
      ]
     },
     "execution_count": 9,
     "metadata": {},
     "output_type": "execute_result"
    }
   ],
   "source": [
    "len(player.gamelog.columns)"
   ]
  },
  {
   "cell_type": "code",
   "execution_count": 7,
   "metadata": {},
   "outputs": [],
   "source": [
    "def extract_teams(row):\n",
    "    parts = row[\"MATCHUP\"].split(\" \")\n",
    "    if \"vs.\" in row[\"MATCHUP\"]:\n",
    "        home_team, away_team = parts[0], parts[2]\n",
    "    elif \"@\" in row[\"MATCHUP\"]:\n",
    "        away_team, home_team = parts[0], parts[2]\n",
    "    return pd.Series({\"home_team_abbr\": home_team, \"away_team_abbr\": away_team})\n",
    "\n",
    "player.gamelog[[\"home_team_abbr\", \"away_team_abbr\"]] = player.gamelog.apply(extract_teams, axis=1)"
   ]
  },
  {
   "cell_type": "code",
   "execution_count": 8,
   "metadata": {},
   "outputs": [
    {
     "name": "stdout",
     "output_type": "stream",
     "text": [
      "/Users/matth/projects/player-prop-simulation/data/nba_data.db\n"
     ]
    }
   ],
   "source": [
    "# Merge with team IDs using the Teams table\n",
    "conn, cursor = database_connect()\n",
    "teams_df = pd.read_sql(\"SELECT * FROM Teams;\", conn)\n",
    "\n",
    "# Create a mapping of abbreviations to team IDs\n",
    "team_abbrev_to_id = dict(zip(teams_df[\"abbreviation\"], teams_df[\"id\"]))\n",
    "\n",
    "# Map team abbreviations to team IDs\n",
    "player.gamelog[\"home_team_id\"] = player.gamelog[\"home_team_abbr\"].map(team_abbrev_to_id)\n",
    "player.gamelog[\"away_team_id\"] = player.gamelog[\"away_team_abbr\"].map(team_abbrev_to_id)\n",
    "\n",
    "conn.close()"
   ]
  },
  {
   "cell_type": "code",
   "execution_count": null,
   "metadata": {},
   "outputs": [
    {
     "name": "stdout",
     "output_type": "stream",
     "text": [
      "/Users/matth/projects/player-prop-simulation/data/nba_data.db\n"
     ]
    }
   ],
   "source": [
    "# # Connect to SQLite\n",
    "# conn, cursor = database_connect()\n",
    "\n",
    "# # Step 1: Auto-generate SQL table creation query\n",
    "# columns = \", \".join([f\"{col} REAL\" if player.gamelog[col].dtype in ['float64', 'int64'] else f\"{col} TEXT\" for col in player.gamelog.columns])\n",
    "\n",
    "# create_table_query = f\"\"\"\n",
    "# CREATE TABLE IF NOT EXISTS PlayerStats (\n",
    "#     {columns},\n",
    "#     PRIMARY KEY (game_id, player_id)  -- Enforce uniqueness on player-game pairs\n",
    "# );\n",
    "# \"\"\"\n",
    "# cursor.execute(create_table_query)\n",
    "# conn.commit()\n",
    "\n",
    "# conn.close()"
   ]
  },
  {
   "cell_type": "code",
   "execution_count": null,
   "metadata": {},
   "outputs": [
    {
     "name": "stdout",
     "output_type": "stream",
     "text": [
      "/Users/matth/projects/player-prop-simulation/data/nba_data.db\n",
      "✅ PlayerStats table created and data inserted successfully!\n",
      "PlayerStats Table Preview\n"
     ]
    },
    {
     "data": {
      "text/html": [
       "<table id=\"itables_4aa477b5_9b4c_42bf_892c_a1c63b96bf74\" class=\"display nowrap\" data-quarto-disable-processing=\"true\" style=\"table-layout:auto;width:auto;margin:auto;caption-side:bottom\">\n",
       "<thead>\n",
       "    <tr style=\"text-align: right;\">\n",
       "      \n",
       "      <th>SEASON_ID</th>\n",
       "      <th>Player_ID</th>\n",
       "      <th>Game_ID</th>\n",
       "      <th>GAME_DATE</th>\n",
       "      <th>MATCHUP</th>\n",
       "      <th>WL</th>\n",
       "      <th>MIN</th>\n",
       "      <th>FGM</th>\n",
       "      <th>FGA</th>\n",
       "      <th>FG_PCT</th>\n",
       "      <th>FG3M</th>\n",
       "      <th>FG3A</th>\n",
       "      <th>FG3_PCT</th>\n",
       "      <th>FTM</th>\n",
       "      <th>FTA</th>\n",
       "      <th>FT_PCT</th>\n",
       "      <th>OREB</th>\n",
       "      <th>DREB</th>\n",
       "      <th>REB</th>\n",
       "      <th>AST</th>\n",
       "      <th>STL</th>\n",
       "      <th>BLK</th>\n",
       "      <th>TOV</th>\n",
       "      <th>PF</th>\n",
       "      <th>PTS</th>\n",
       "      <th>PLUS_MINUS</th>\n",
       "      <th>VIDEO_AVAILABLE</th>\n",
       "      <th>E_USG_PCT</th>\n",
       "      <th>E_OFF_RATING</th>\n",
       "      <th>E_DEF_RATING</th>\n",
       "      <th>PACE_PER40</th>\n",
       "      <th>TS_PCT</th>\n",
       "      <th>AST_PCT</th>\n",
       "      <th>home_team_abbr</th>\n",
       "      <th>away_team_abbr</th>\n",
       "      <th>home_team_id</th>\n",
       "      <th>away_team_id</th>\n",
       "    </tr>\n",
       "  </thead><tbody><tr>\n",
       "<td style=\"vertical-align:middle; text-align:left\">\n",
       "<a href=https://mwouts.github.io/itables/><svg class=\"main-svg\" xmlns=\"http://www.w3.org/2000/svg\" xmlns:xlink=\"http://www.w3.org/1999/xlink\"\n",
       "width=\"64\" viewBox=\"0 0 500 400\" style=\"font-family: 'Droid Sans', sans-serif;\">\n",
       "    <g style=\"fill:#d9d7fc\">\n",
       "        <path d=\"M100,400H500V357H100Z\" />\n",
       "        <path d=\"M100,300H400V257H100Z\" />\n",
       "        <path d=\"M0,200H400V157H0Z\" />\n",
       "        <path d=\"M100,100H500V57H100Z\" />\n",
       "        <path d=\"M100,350H500V307H100Z\" />\n",
       "        <path d=\"M100,250H400V207H100Z\" />\n",
       "        <path d=\"M0,150H400V107H0Z\" />\n",
       "        <path d=\"M100,50H500V7H100Z\" />\n",
       "    </g>\n",
       "    <g style=\"fill:#1a1366;stroke:#1a1366;\">\n",
       "   <rect x=\"100\" y=\"7\" width=\"400\" height=\"43\">\n",
       "    <animate\n",
       "      attributeName=\"width\"\n",
       "      values=\"0;400;0\"\n",
       "      dur=\"5s\"\n",
       "      repeatCount=\"indefinite\" />\n",
       "      <animate\n",
       "      attributeName=\"x\"\n",
       "      values=\"100;100;500\"\n",
       "      dur=\"5s\"\n",
       "      repeatCount=\"indefinite\" />\n",
       "  </rect>\n",
       "        <rect x=\"0\" y=\"107\" width=\"400\" height=\"43\">\n",
       "    <animate\n",
       "      attributeName=\"width\"\n",
       "      values=\"0;400;0\"\n",
       "      dur=\"3.5s\"\n",
       "      repeatCount=\"indefinite\" />\n",
       "    <animate\n",
       "      attributeName=\"x\"\n",
       "      values=\"0;0;400\"\n",
       "      dur=\"3.5s\"\n",
       "      repeatCount=\"indefinite\" />\n",
       "  </rect>\n",
       "        <rect x=\"100\" y=\"207\" width=\"300\" height=\"43\">\n",
       "    <animate\n",
       "      attributeName=\"width\"\n",
       "      values=\"0;300;0\"\n",
       "      dur=\"3s\"\n",
       "      repeatCount=\"indefinite\" />\n",
       "    <animate\n",
       "      attributeName=\"x\"\n",
       "      values=\"100;100;400\"\n",
       "      dur=\"3s\"\n",
       "      repeatCount=\"indefinite\" />\n",
       "  </rect>\n",
       "        <rect x=\"100\" y=\"307\" width=\"400\" height=\"43\">\n",
       "    <animate\n",
       "      attributeName=\"width\"\n",
       "      values=\"0;400;0\"\n",
       "      dur=\"4s\"\n",
       "      repeatCount=\"indefinite\" />\n",
       "      <animate\n",
       "      attributeName=\"x\"\n",
       "      values=\"100;100;500\"\n",
       "      dur=\"4s\"\n",
       "      repeatCount=\"indefinite\" />\n",
       "  </rect>\n",
       "        <g style=\"fill:transparent;stroke-width:8; stroke-linejoin:round\" rx=\"5\">\n",
       "            <g transform=\"translate(45 50) rotate(-45)\">\n",
       "                <circle r=\"33\" cx=\"0\" cy=\"0\" />\n",
       "                <rect x=\"-8\" y=\"32\" width=\"16\" height=\"30\" />\n",
       "            </g>\n",
       "\n",
       "            <g transform=\"translate(450 152)\">\n",
       "                <polyline points=\"-15,-20 -35,-20 -35,40 25,40 25,20\" />\n",
       "                <rect x=\"-15\" y=\"-40\" width=\"60\" height=\"60\" />\n",
       "            </g>\n",
       "\n",
       "            <g transform=\"translate(50 352)\">\n",
       "                <polygon points=\"-35,-5 0,-40 35,-5\" />\n",
       "                <polygon points=\"-35,10 0,45 35,10\" />\n",
       "            </g>\n",
       "\n",
       "            <g transform=\"translate(75 250)\">\n",
       "                <polyline points=\"-30,30 -60,0 -30,-30\" />\n",
       "                <polyline points=\"0,30 -30,0 0,-30\" />\n",
       "            </g>\n",
       "\n",
       "            <g transform=\"translate(425 250) rotate(180)\">\n",
       "                <polyline points=\"-30,30 -60,0 -30,-30\" />\n",
       "                <polyline points=\"0,30 -30,0 0,-30\" />\n",
       "            </g>\n",
       "        </g>\n",
       "    </g>\n",
       "</svg>\n",
       "</a>\n",
       "Loading ITables v2.2.5 from the internet...\n",
       "(need <a href=https://mwouts.github.io/itables/troubleshooting.html>help</a>?)</td>\n",
       "</tr></tbody>\n",
       "</table>\n",
       "<link href=\"https://www.unpkg.com/dt_for_itables@2.0.13/dt_bundle.css\" rel=\"stylesheet\">\n",
       "<script type=\"module\">\n",
       "    import {DataTable, jQuery as $} from 'https://www.unpkg.com/dt_for_itables@2.0.13/dt_bundle.js';\n",
       "\n",
       "    document.querySelectorAll(\"#itables_4aa477b5_9b4c_42bf_892c_a1c63b96bf74:not(.dataTable)\").forEach(table => {\n",
       "        if (!(table instanceof HTMLTableElement))\n",
       "            return;\n",
       "\n",
       "        // Define the table data\n",
       "        const data = [[\"22024\", \"1627759\", \"0022400891\", \"MAR 05, 2025\", \"BOS vs. POR\", \"W\", \"40\", \"7\", \"23\", 0.304, \"0\", \"4\", 0.0, \"4\", \"6\", 0.667, \"3\", \"5\", \"8\", \"8\", \"1\", \"0\", \"3\", \"2\", \"18\", \"15\", \"1\", \"0.31\", \"139.4\", \"119.8\", \"79.08\", \"0.351\", \"0.25\", \"BOS\", \"POR\", 1610612738.0, 1610612757.0], [\"22024\", \"1627759\", \"0022400866\", \"MAR 02, 2025\", \"BOS vs. DEN\", \"W\", \"37\", \"6\", \"15\", 0.4, \"2\", \"4\", 0.5, \"8\", \"9\", 0.889, \"0\", \"5\", \"5\", \"8\", \"2\", \"2\", \"5\", \"2\", \"22\", \"10\", \"1\", \"0.307\", \"121.8\", \"103.9\", \"79.23\", \"0.58\", \"0.348\", \"BOS\", \"DEN\", 1610612738.0, 1610612743.0], [\"22024\", \"1627759\", \"0022400852\", \"FEB 28, 2025\", \"BOS vs. CLE\", \"L\", \"34\", \"13\", \"24\", 0.542, \"4\", \"6\", 0.667, \"7\", \"10\", 0.7, \"4\", \"1\", \"5\", \"2\", \"0\", \"0\", \"3\", \"4\", \"37\", \"10\", \"1\", \"0.399\", \"128.9\", \"115.4\", \"78.43\", \"0.651\", \"0.111\", \"BOS\", \"CLE\", 1610612738.0, 1610612739.0], [\"22024\", \"1627759\", \"0022400829\", \"FEB 25, 2025\", \"BOS @ TOR\", \"W\", \"33\", \"10\", \"18\", 0.556, \"0\", \"5\", 0.0, \"4\", \"4\", 1.0, \"1\", \"4\", \"5\", \"4\", \"1\", \"0\", \"3\", \"1\", \"24\", \"5\", \"1\", \"0.287\", \"110.4\", \"110.7\", \"80.2\", \"0.607\", \"0.19\", \"TOR\", \"BOS\", 1610612761.0, 1610612738.0], [\"22024\", \"1627759\", \"0022400811\", \"FEB 23, 2025\", \"BOS vs. NYK\", \"W\", \"37\", \"10\", \"21\", 0.476, \"2\", \"7\", 0.286, \"2\", \"2\", 1.0, \"1\", \"7\", \"8\", \"2\", \"2\", \"0\", \"2\", \"2\", \"24\", \"14\", \"1\", \"0.293\", \"121.4\", \"100.5\", \"81.38\", \"0.548\", \"0.083\", \"BOS\", \"NYK\", 1610612738.0, 1610612752.0]];\n",
       "\n",
       "        // Define the dt_args\n",
       "        let dt_args = {\"layout\": {\"topStart\": null, \"topEnd\": null, \"bottomStart\": null, \"bottomEnd\": null}, \"order\": [], \"warn_on_selected_rows_not_rendered\": true};\n",
       "        dt_args[\"data\"] = data;\n",
       "\n",
       "        \n",
       "        new DataTable(table, dt_args);\n",
       "    });\n",
       "</script>\n"
      ],
      "text/plain": [
       "<IPython.core.display.HTML object>"
      ]
     },
     "metadata": {},
     "output_type": "display_data"
    }
   ],
   "source": [
    "conn, cursor = database_connect()\n",
    "\n",
    "# Step 2: Bulk Insert Data Efficiently\n",
    "player.gamelog.to_sql(\"PlayerStats\", conn, if_exists=\"append\", index=False)\n",
    "\n",
    "print(\"✅ PlayerStats table created and data inserted successfully!\")\n",
    "\n",
    "# Display the table for verification\n",
    "query = \"SELECT DISTINCT Player_ID FROM PlayerStats LIMIT 5;\"\n",
    "df = pd.read_sql(query, conn)\n",
    "\n",
    "tools.display_dataframe_to_user(name=\"PlayerStats Table Preview\", dataframe=df)\n",
    "\n",
    "# Close connection\n",
    "conn.close()"
   ]
  },
  {
   "cell_type": "markdown",
   "metadata": {},
   "source": [
    "_________________________________"
   ]
  },
  {
   "cell_type": "code",
   "execution_count": null,
   "metadata": {},
   "outputs": [],
   "source": [
    "from nba_api.stats.endpoints import teamestimatedmetrics\n",
    "\n",
    "season_map = {\n",
    "    '2024-25': '22024',\n",
    "    '2023-24': '22023',\n",
    "    '2022-23': '22022',\n",
    "    '2021-22': '22021',\n",
    "    '2020-21': '22020'\n",
    "}\n",
    "\n",
    "full_table = pd.DataFrame()\n",
    "\n",
    "for season_key, season_abv in season_map.items():\n",
    "    ret = teamestimatedmetrics.TeamEstimatedMetrics(season=season_key)\n",
    "    team_stats = ret.get_dict()\n",
    "    data = pd.DataFrame(\n",
    "        data=team_stats['resultSet']['rowSet'],\n",
    "        columns=team_stats['resultSet']['headers'])\n",
    "\n",
    "    categories = ['TEAM_NAME','TEAM_ID','E_OFF_RATING','E_DEF_RATING', 'E_PACE']\n",
    "    data = data[categories]\n",
    "    data[['SEASON_ID']] = season_abv\n",
    "    if full_table.empty:\n",
    "        full_table = pd.DataFrame(columns=list(data.columns))\n",
    "    full_table = pd.concat([full_table, data], ignore_index=True)\n",
    "\n",
    "full_table\n"
   ]
  },
  {
   "cell_type": "code",
   "execution_count": 58,
   "metadata": {},
   "outputs": [
    {
     "name": "stdout",
     "output_type": "stream",
     "text": [
      "/Users/matth/projects/player-prop-simulation/data/nba_data.db\n"
     ]
    }
   ],
   "source": [
    "# Connect to SQLite\n",
    "conn, cursor = database_connect()\n",
    "\n",
    "# Step 1: Auto-generate SQL table creation query\n",
    "columns = \", \".join([f\"{col} REAL\" if full_table[col].dtype in ['float64', 'int64'] else f\"{col} TEXT\" for col in full_table.columns])\n",
    "\n",
    "create_table_query = f\"\"\"\n",
    "CREATE TABLE IF NOT EXISTS SeasonStats (\n",
    "    {columns},\n",
    "    PRIMARY KEY (TEAM_ID, SEASON_ID)  -- Enforce uniqueness on player-game pairs\n",
    ");\n",
    "\"\"\"\n",
    "cursor.execute(create_table_query)\n",
    "conn.commit()\n",
    "\n",
    "conn.close()"
   ]
  },
  {
   "cell_type": "code",
   "execution_count": 60,
   "metadata": {},
   "outputs": [
    {
     "name": "stdout",
     "output_type": "stream",
     "text": [
      "/Users/matth/projects/player-prop-simulation/data/nba_data.db\n",
      "✅ SeasonStats data inserted successfully!\n",
      "SeasonStats Table Preview\n"
     ]
    },
    {
     "data": {
      "text/html": [
       "<table id=\"itables_f9e80a13_d988_4bc2_b90f_73c4e64297f1\" class=\"display nowrap\" data-quarto-disable-processing=\"true\" style=\"table-layout:auto;width:auto;margin:auto;caption-side:bottom\">\n",
       "<thead>\n",
       "    <tr style=\"text-align: right;\">\n",
       "      \n",
       "      <th>TEAM_NAME</th>\n",
       "      <th>TEAM_ID</th>\n",
       "      <th>E_OFF_RATING</th>\n",
       "      <th>E_DEF_RATING</th>\n",
       "      <th>E_PACE</th>\n",
       "      <th>SEASON_ID</th>\n",
       "    </tr>\n",
       "  </thead><tbody><tr>\n",
       "<td style=\"vertical-align:middle; text-align:left\">\n",
       "<a href=https://mwouts.github.io/itables/><svg class=\"main-svg\" xmlns=\"http://www.w3.org/2000/svg\" xmlns:xlink=\"http://www.w3.org/1999/xlink\"\n",
       "width=\"64\" viewBox=\"0 0 500 400\" style=\"font-family: 'Droid Sans', sans-serif;\">\n",
       "    <g style=\"fill:#d9d7fc\">\n",
       "        <path d=\"M100,400H500V357H100Z\" />\n",
       "        <path d=\"M100,300H400V257H100Z\" />\n",
       "        <path d=\"M0,200H400V157H0Z\" />\n",
       "        <path d=\"M100,100H500V57H100Z\" />\n",
       "        <path d=\"M100,350H500V307H100Z\" />\n",
       "        <path d=\"M100,250H400V207H100Z\" />\n",
       "        <path d=\"M0,150H400V107H0Z\" />\n",
       "        <path d=\"M100,50H500V7H100Z\" />\n",
       "    </g>\n",
       "    <g style=\"fill:#1a1366;stroke:#1a1366;\">\n",
       "   <rect x=\"100\" y=\"7\" width=\"400\" height=\"43\">\n",
       "    <animate\n",
       "      attributeName=\"width\"\n",
       "      values=\"0;400;0\"\n",
       "      dur=\"5s\"\n",
       "      repeatCount=\"indefinite\" />\n",
       "      <animate\n",
       "      attributeName=\"x\"\n",
       "      values=\"100;100;500\"\n",
       "      dur=\"5s\"\n",
       "      repeatCount=\"indefinite\" />\n",
       "  </rect>\n",
       "        <rect x=\"0\" y=\"107\" width=\"400\" height=\"43\">\n",
       "    <animate\n",
       "      attributeName=\"width\"\n",
       "      values=\"0;400;0\"\n",
       "      dur=\"3.5s\"\n",
       "      repeatCount=\"indefinite\" />\n",
       "    <animate\n",
       "      attributeName=\"x\"\n",
       "      values=\"0;0;400\"\n",
       "      dur=\"3.5s\"\n",
       "      repeatCount=\"indefinite\" />\n",
       "  </rect>\n",
       "        <rect x=\"100\" y=\"207\" width=\"300\" height=\"43\">\n",
       "    <animate\n",
       "      attributeName=\"width\"\n",
       "      values=\"0;300;0\"\n",
       "      dur=\"3s\"\n",
       "      repeatCount=\"indefinite\" />\n",
       "    <animate\n",
       "      attributeName=\"x\"\n",
       "      values=\"100;100;400\"\n",
       "      dur=\"3s\"\n",
       "      repeatCount=\"indefinite\" />\n",
       "  </rect>\n",
       "        <rect x=\"100\" y=\"307\" width=\"400\" height=\"43\">\n",
       "    <animate\n",
       "      attributeName=\"width\"\n",
       "      values=\"0;400;0\"\n",
       "      dur=\"4s\"\n",
       "      repeatCount=\"indefinite\" />\n",
       "      <animate\n",
       "      attributeName=\"x\"\n",
       "      values=\"100;100;500\"\n",
       "      dur=\"4s\"\n",
       "      repeatCount=\"indefinite\" />\n",
       "  </rect>\n",
       "        <g style=\"fill:transparent;stroke-width:8; stroke-linejoin:round\" rx=\"5\">\n",
       "            <g transform=\"translate(45 50) rotate(-45)\">\n",
       "                <circle r=\"33\" cx=\"0\" cy=\"0\" />\n",
       "                <rect x=\"-8\" y=\"32\" width=\"16\" height=\"30\" />\n",
       "            </g>\n",
       "\n",
       "            <g transform=\"translate(450 152)\">\n",
       "                <polyline points=\"-15,-20 -35,-20 -35,40 25,40 25,20\" />\n",
       "                <rect x=\"-15\" y=\"-40\" width=\"60\" height=\"60\" />\n",
       "            </g>\n",
       "\n",
       "            <g transform=\"translate(50 352)\">\n",
       "                <polygon points=\"-35,-5 0,-40 35,-5\" />\n",
       "                <polygon points=\"-35,10 0,45 35,10\" />\n",
       "            </g>\n",
       "\n",
       "            <g transform=\"translate(75 250)\">\n",
       "                <polyline points=\"-30,30 -60,0 -30,-30\" />\n",
       "                <polyline points=\"0,30 -30,0 0,-30\" />\n",
       "            </g>\n",
       "\n",
       "            <g transform=\"translate(425 250) rotate(180)\">\n",
       "                <polyline points=\"-30,30 -60,0 -30,-30\" />\n",
       "                <polyline points=\"0,30 -30,0 0,-30\" />\n",
       "            </g>\n",
       "        </g>\n",
       "    </g>\n",
       "</svg>\n",
       "</a>\n",
       "Loading ITables v2.2.5 from the internet...\n",
       "(need <a href=https://mwouts.github.io/itables/troubleshooting.html>help</a>?)</td>\n",
       "</tr></tbody>\n",
       "</table>\n",
       "<link href=\"https://www.unpkg.com/dt_for_itables@2.0.13/dt_bundle.css\" rel=\"stylesheet\">\n",
       "<script type=\"module\">\n",
       "    import {DataTable, jQuery as $} from 'https://www.unpkg.com/dt_for_itables@2.0.13/dt_bundle.js';\n",
       "\n",
       "    document.querySelectorAll(\"#itables_f9e80a13_d988_4bc2_b90f_73c4e64297f1:not(.dataTable)\").forEach(table => {\n",
       "        if (!(table instanceof HTMLTableElement))\n",
       "            return;\n",
       "\n",
       "        // Define the table data\n",
       "        const data = [[\"Memphis Grizzlies\", \"1610612763\", 114.6, 109.4, 106.9, \"22024\"], [\"Atlanta Hawks\", \"1610612737\", 110.1, 112.4, 105.7, \"22024\"], [\"Chicago Bulls\", \"1610612741\", 110.5, 113.7, 105.4, \"22024\"], [\"Washington Wizards\", \"1610612764\", 103.6, 115.9, 104.0, \"22024\"], [\"Denver Nuggets\", \"1610612743\", 117.2, 111.9, 102.7, \"22024\"]];\n",
       "\n",
       "        // Define the dt_args\n",
       "        let dt_args = {\"layout\": {\"topStart\": null, \"topEnd\": null, \"bottomStart\": null, \"bottomEnd\": null}, \"order\": [], \"warn_on_selected_rows_not_rendered\": true};\n",
       "        dt_args[\"data\"] = data;\n",
       "\n",
       "        \n",
       "        new DataTable(table, dt_args);\n",
       "    });\n",
       "</script>\n"
      ],
      "text/plain": [
       "<IPython.core.display.HTML object>"
      ]
     },
     "metadata": {},
     "output_type": "display_data"
    }
   ],
   "source": [
    "conn, cursor = database_connect()\n",
    "\n",
    "# Step 2: Bulk Insert Data Efficiently\n",
    "full_table.to_sql(\"SeasonStats\", conn, if_exists=\"append\", index=False)\n",
    "\n",
    "print(\"✅ SeasonStats data inserted successfully!\")\n",
    "\n",
    "# Display the table for verification\n",
    "query = \"SELECT * FROM SeasonStats LIMIT 5;\"\n",
    "df = pd.read_sql(query, conn)\n",
    "\n",
    "tools.display_dataframe_to_user(name=\"SeasonStats Table Preview\", dataframe=df)\n",
    "\n",
    "# Close connection\n",
    "conn.close()"
   ]
  },
  {
   "cell_type": "code",
   "execution_count": 62,
   "metadata": {},
   "outputs": [
    {
     "name": "stdout",
     "output_type": "stream",
     "text": [
      "/Users/matth/projects/player-prop-simulation/data/nba_data.db\n"
     ]
    },
    {
     "data": {
      "text/html": [
       "<div>\n",
       "<style scoped>\n",
       "    .dataframe tbody tr th:only-of-type {\n",
       "        vertical-align: middle;\n",
       "    }\n",
       "\n",
       "    .dataframe tbody tr th {\n",
       "        vertical-align: top;\n",
       "    }\n",
       "\n",
       "    .dataframe thead th {\n",
       "        text-align: right;\n",
       "    }\n",
       "</style>\n",
       "<table border=\"1\" class=\"dataframe\">\n",
       "  <thead>\n",
       "    <tr style=\"text-align: right;\">\n",
       "      <th></th>\n",
       "      <th>TOTAL_ROWS</th>\n",
       "    </tr>\n",
       "  </thead>\n",
       "  <tbody>\n",
       "    <tr>\n",
       "      <th>0</th>\n",
       "      <td>150</td>\n",
       "    </tr>\n",
       "  </tbody>\n",
       "</table>\n",
       "</div>"
      ],
      "text/plain": [
       "   TOTAL_ROWS\n",
       "0         150"
      ]
     },
     "execution_count": 62,
     "metadata": {},
     "output_type": "execute_result"
    }
   ],
   "source": [
    "# Display the table for verification\n",
    "conn, cursor = database_connect()\n",
    "query = \"SELECT COUNT(*) AS TOTAL_ROWS FROM SeasonStats;\"\n",
    "df = pd.read_sql(query, conn)\n",
    "conn.close()\n",
    "\n",
    "df"
   ]
  },
  {
   "cell_type": "markdown",
   "metadata": {},
   "source": [
    "_____________\n"
   ]
  }
 ],
 "metadata": {
  "kernelspec": {
   "display_name": "Python 3",
   "language": "python",
   "name": "python3"
  },
  "language_info": {
   "codemirror_mode": {
    "name": "ipython",
    "version": 3
   },
   "file_extension": ".py",
   "mimetype": "text/x-python",
   "name": "python",
   "nbconvert_exporter": "python",
   "pygments_lexer": "ipython3",
   "version": "3.11.10"
  }
 },
 "nbformat": 4,
 "nbformat_minor": 2
}
